{
 "cells": [
  {
   "cell_type": "code",
   "execution_count": 1,
   "metadata": {},
   "outputs": [],
   "source": [
    "import numpy as np\n",
    "import pandas as pd\n",
    "import matplotlib.pyplot as plt\n",
    "import scipy.stats as stats\n",
    "\n",
    "%matplotlib inline\n",
    "np.random.seed(0)"
   ]
  },
  {
   "cell_type": "code",
   "execution_count": 2,
   "metadata": {},
   "outputs": [
    {
     "data": {
      "text/html": [
       "<div>\n",
       "<table border=\"1\" class=\"dataframe\">\n",
       "  <thead>\n",
       "    <tr style=\"text-align: right;\">\n",
       "      <th></th>\n",
       "      <th>userID</th>\n",
       "      <th>browser</th>\n",
       "      <th>slot</th>\n",
       "      <th>n_clicks</th>\n",
       "      <th>n_queries</th>\n",
       "      <th>n_nonclk_queries</th>\n",
       "    </tr>\n",
       "  </thead>\n",
       "  <tbody>\n",
       "    <tr>\n",
       "      <th>0</th>\n",
       "      <td>1</td>\n",
       "      <td>Browser #2</td>\n",
       "      <td>exp</td>\n",
       "      <td>23</td>\n",
       "      <td>32</td>\n",
       "      <td>19</td>\n",
       "    </tr>\n",
       "    <tr>\n",
       "      <th>1</th>\n",
       "      <td>3</td>\n",
       "      <td>Browser #4</td>\n",
       "      <td>exp</td>\n",
       "      <td>3</td>\n",
       "      <td>4</td>\n",
       "      <td>2</td>\n",
       "    </tr>\n",
       "    <tr>\n",
       "      <th>2</th>\n",
       "      <td>5</td>\n",
       "      <td>Browser #4</td>\n",
       "      <td>exp</td>\n",
       "      <td>29</td>\n",
       "      <td>35</td>\n",
       "      <td>16</td>\n",
       "    </tr>\n",
       "    <tr>\n",
       "      <th>3</th>\n",
       "      <td>6</td>\n",
       "      <td>Browser #4</td>\n",
       "      <td>control</td>\n",
       "      <td>12</td>\n",
       "      <td>6</td>\n",
       "      <td>0</td>\n",
       "    </tr>\n",
       "    <tr>\n",
       "      <th>4</th>\n",
       "      <td>7</td>\n",
       "      <td>Browser #4</td>\n",
       "      <td>exp</td>\n",
       "      <td>54</td>\n",
       "      <td>68</td>\n",
       "      <td>30</td>\n",
       "    </tr>\n",
       "  </tbody>\n",
       "</table>\n",
       "</div>"
      ],
      "text/plain": [
       "   userID     browser     slot  n_clicks  n_queries  n_nonclk_queries\n",
       "0       1  Browser #2      exp        23         32                19\n",
       "1       3  Browser #4      exp         3          4                 2\n",
       "2       5  Browser #4      exp        29         35                16\n",
       "3       6  Browser #4  control        12          6                 0\n",
       "4       7  Browser #4      exp        54         68                30"
      ]
     },
     "execution_count": 2,
     "metadata": {},
     "output_type": "execute_result"
    }
   ],
   "source": [
    "df = pd.read_csv('ab_browser_test.csv')\n",
    "df.head()"
   ]
  },
  {
   "cell_type": "code",
   "execution_count": 3,
   "metadata": {},
   "outputs": [],
   "source": [
    "def get_bootstrap_samples(data, n_samples):\n",
    "    for i in range(n_samples):\n",
    "        indices = np.random.randint(0, len(data), len(data))\n",
    "        samples = data[indices]\n",
    "        yield samples\n",
    "\n",
    "def stat_intervals(stat, alpha):\n",
    "    boundaries = np.percentile(stat, [100 * alpha / 2., 100 * (1 - alpha / 2.)])\n",
    "    return boundaries"
   ]
  },
  {
   "cell_type": "code",
   "execution_count": 4,
   "metadata": {},
   "outputs": [],
   "source": [
    "clicks_ctrl = df[df['slot'] == 'control']['n_clicks'].values\n",
    "clicks_exp = df[df['slot'] == 'exp']['n_clicks'].values"
   ]
  },
  {
   "cell_type": "markdown",
   "metadata": {},
   "source": [
    "## Clicks"
   ]
  },
  {
   "cell_type": "code",
   "execution_count": 5,
   "metadata": {},
   "outputs": [
    {
     "name": "stdout",
     "output_type": "stream",
     "text": [
      "Number of clicks for the control:  3210027\n",
      "Number of clicks for the experiment:  3261823\n",
      "Clicks difference in percents:  1.61356898244\n"
     ]
    }
   ],
   "source": [
    "print(\"Number of clicks for the control: \", clicks_ctrl.sum())\n",
    "print(\"Number of clicks for the experiment: \", clicks_exp.sum())\n",
    "print(\"Clicks difference in percents: \", (clicks_exp.sum() - clicks_ctrl.sum()) / clicks_ctrl.sum() * 100)"
   ]
  },
  {
   "cell_type": "markdown",
   "metadata": {},
   "source": [
    "## Confident intervals using bootstrap"
   ]
  },
  {
   "cell_type": "markdown",
   "metadata": {},
   "source": [
    "#### Median"
   ]
  },
  {
   "cell_type": "code",
   "execution_count": 6,
   "metadata": {},
   "outputs": [
    {
     "name": "stdout",
     "output_type": "stream",
     "text": [
      "95% confidence interval for the control clicks: [ 4.  4.]\n",
      "95% confidence interval for the experiment clicks: [ 5.  5.]\n",
      "95% confidence interval for the delta: [ 1.  1.]\n"
     ]
    }
   ],
   "source": [
    "clicks_median_ctrl = np.fromiter((np.median(sample) for sample in get_bootstrap_samples(clicks_ctrl, 1000)), float)\n",
    "clicks_median_exp = np.fromiter((np.median(sample) for sample in get_bootstrap_samples(clicks_exp, 1000)), float)\n",
    "\n",
    "print(\"95% confidence interval for the control clicks:\",  stat_intervals(clicks_median_ctrl, 0.05))\n",
    "print(\"95% confidence interval for the experiment clicks:\",  stat_intervals(clicks_median_exp, 0.05))\n",
    "print(\"95% confidence interval for the delta:\",  stat_intervals(clicks_median_exp - clicks_median_ctrl, 0.05))"
   ]
  },
  {
   "cell_type": "markdown",
   "metadata": {},
   "source": [
    "#### Mean"
   ]
  },
  {
   "cell_type": "code",
   "execution_count": 7,
   "metadata": {},
   "outputs": [
    {
     "name": "stdout",
     "output_type": "stream",
     "text": [
      "95% confidence interval for the control clicks: [ 11.20679809  11.35869615]\n",
      "95% confidence interval for the experiment clicks: [ 11.50965481  11.65920804]\n",
      "95% confidence interval for the delta: [ 0.1980987   0.40880383]\n"
     ]
    }
   ],
   "source": [
    "clicks_mean_ctrl = np.fromiter((np.mean(sample) for sample in get_bootstrap_samples(clicks_ctrl, 1000)), float)\n",
    "clicks_mean_exp = np.fromiter((np.mean(sample) for sample in get_bootstrap_samples(clicks_exp, 1000)), float)\n",
    "\n",
    "print(\"95% confidence interval for the control clicks:\",  stat_intervals(clicks_mean_ctrl, 0.05))\n",
    "print(\"95% confidence interval for the experiment clicks:\",  stat_intervals(clicks_mean_exp, 0.05))\n",
    "print(\"95% confidence interval for the delta:\",  stat_intervals(clicks_mean_exp - clicks_mean_ctrl, 0.05))"
   ]
  },
  {
   "cell_type": "markdown",
   "metadata": {},
   "source": [
    "## Student's t-test"
   ]
  },
  {
   "cell_type": "code",
   "execution_count": 8,
   "metadata": {},
   "outputs": [],
   "source": [
    "n_boot_samples = 500"
   ]
  },
  {
   "cell_type": "code",
   "execution_count": 9,
   "metadata": {},
   "outputs": [
    {
     "name": "stdout",
     "output_type": "stream",
     "text": [
      "R ** 2:  0.998520754398\n"
     ]
    },
    {
     "data": {
      "image/png": "[encoded data removed]",
      "text/plain": [
       "<matplotlib.figure.Figure at 0x7f3e7a427b70>"
      ]
     },
     "metadata": {},
     "output_type": "display_data"
    }
   ],
   "source": [
    "samples_mean = np.fromiter((np.mean(sample) for sample in get_bootstrap_samples(clicks_ctrl, n_boot_samples)), float)\n",
    "(_, (_, _, r)) = stats.probplot(samples_mean, sparams=n_boot_samples - 1, plot=plt)\n",
    "print(\"R ** 2: \", r ** 2)\n",
    "plt.show()"
   ]
  },
  {
   "cell_type": "code",
   "execution_count": 10,
   "metadata": {},
   "outputs": [
    {
     "name": "stdout",
     "output_type": "stream",
     "text": [
      "R ** 2:  0.998381873066\n"
     ]
    },
    {
     "data": {
      "image/png": "[encoded data removed]",
      "text/plain": [
       "<matplotlib.figure.Figure at 0x7f3e7a427940>"
      ]
     },
     "metadata": {},
     "output_type": "display_data"
    }
   ],
   "source": [
    "gen = ((np.sum((sample - np.mean(sample)) ** 2)) for sample in get_bootstrap_samples(clicks_ctrl, n_boot_samples))\n",
    "control_boot_chi_squared = np.fromiter(gen, float)\n",
    "(_, (_, _, r)) = stats.probplot(control_boot_chi_squared, dist=\"chi2\", sparams=(n_boot_samples-1), plot=plt)\n",
    "print(\"R ** 2: \", r ** 2)\n",
    "plt.show()"
   ]
  },
  {
   "cell_type": "markdown",
   "metadata": {},
   "source": [
    "## Mann–Whitney U test"
   ]
  },
  {
   "cell_type": "code",
   "execution_count": 11,
   "metadata": {},
   "outputs": [
    {
     "data": {
      "text/plain": [
       "MannwhitneyuResult(statistic=38901259929.0, pvalue=4.3471471887604393e-75)"
      ]
     },
     "execution_count": 11,
     "metadata": {},
     "output_type": "execute_result"
    }
   ],
   "source": [
    "clicks_grouped_ctrl = df[df['slot'] == 'control'].groupby('userID').aggregate(sum)['n_clicks'].values\n",
    "clicks_grouped_exp = df[df['slot'] == 'exp'].groupby('userID').aggregate(sum)['n_clicks'].values\n",
    "stats.mannwhitneyu(clicks_grouped_ctrl, clicks_grouped_exp)"
   ]
  },
  {
   "cell_type": "markdown",
   "metadata": {},
   "source": [
    "## Mann–Whitney U test for browsers"
   ]
  },
  {
   "cell_type": "code",
   "execution_count": 12,
   "metadata": {},
   "outputs": [
    {
     "name": "stdout",
     "output_type": "stream",
     "text": [
      "Mann–Whitney U test for Browser #2 MannwhitneyuResult(statistic=1522572720.0, pvalue=0.027243860419724101)\n",
      "Mann–Whitney U test for Browser #4 MannwhitneyuResult(statistic=3072447765.0, pvalue=0.40760617658454984)\n",
      "Mann–Whitney U test for Browser #14 MannwhitneyuResult(statistic=806984730.5, pvalue=0.0)\n",
      "Mann–Whitney U test for Browser #17 MannwhitneyuResult(statistic=131389681.0, pvalue=0.037400601430108017)\n",
      "Mann–Whitney U test for Browser #20 MannwhitneyuResult(statistic=143791805.0, pvalue=0.45366656388735377)\n",
      "Mann–Whitney U test for Browser #22 MannwhitneyuResult(statistic=2547597959.5, pvalue=0.25740551522100319)\n"
     ]
    }
   ],
   "source": [
    "pvals = []\n",
    "for browser in df['browser'].unique():\n",
    "    clicks_browser_grouped_ctrl = df[(df['slot'] == 'control') & (df['browser'] == browser)]['n_clicks'].values\n",
    "    clicks_browser_grouped_exp = df[(df['slot'] == 'exp') & (df['browser'] == browser)]['n_clicks'].values\n",
    "    test = stats.mannwhitneyu(clicks_browser_grouped_ctrl, clicks_browser_grouped_exp)\n",
    "    print(\"Mann–Whitney U test for\", browser, test)\n",
    "    pvals.append(test.pvalue)"
   ]
  },
  {
   "cell_type": "code",
   "execution_count": 13,
   "metadata": {},
   "outputs": [
    {
     "data": {
      "text/plain": [
       "(array([False, False,  True, False, False, False], dtype=bool),\n",
       " array([ 0.1362193 ,  0.81521235,  0.        ,  0.14960241,  0.81521235,\n",
       "         0.77221655]),\n",
       " 0.008512444610847103,\n",
       " 0.008333333333333333)"
      ]
     },
     "execution_count": 13,
     "metadata": {},
     "output_type": "execute_result"
    }
   ],
   "source": [
    "import statsmodels.stats.multitest as smm\n",
    "\n",
    "smm.multipletests(pvals, method='holm')"
   ]
  },
  {
   "cell_type": "markdown",
   "metadata": {},
   "source": [
    "## Nonclicks"
   ]
  },
  {
   "cell_type": "code",
   "execution_count": 14,
   "metadata": {},
   "outputs": [
    {
     "name": "stdout",
     "output_type": "stream",
     "text": [
      "Rate of non-clicks for control for:  Browser #2 0.459627471792\n",
      "Rate of non-clicks for experiment for:  Browser #2 0.449827469486\n",
      "\n",
      "Rate of non-clicks for control for:  Browser #4 0.469709296351\n",
      "Rate of non-clicks for experiment for:  Browser #4 0.451429419036\n",
      "\n",
      "Rate of non-clicks for control for:  Browser #14 0.575904113601\n",
      "Rate of non-clicks for experiment for:  Browser #14 0.437556173613\n",
      "\n",
      "Rate of non-clicks for control for:  Browser #17 0.362993667463\n",
      "Rate of non-clicks for experiment for:  Browser #17 0.369374128487\n",
      "\n",
      "Rate of non-clicks for control for:  Browser #20 0.405404847434\n",
      "Rate of non-clicks for experiment for:  Browser #20 0.389773764837\n",
      "\n",
      "Rate of non-clicks for control for:  Browser #22 0.405939765935\n",
      "Rate of non-clicks for experiment for:  Browser #22 0.398539472197\n",
      "\n"
     ]
    }
   ],
   "source": [
    "for browser in df['browser'].unique():\n",
    "    browser_grouped_ctrl = df[(df['slot'] == 'control') & (df['browser'] == browser)]\n",
    "    browser_grouped_exp = df[(df['slot'] == 'exp') & (df['browser'] == browser)]\n",
    "    print(\"Rate of non-clicks for control for: \", browser, browser_grouped_ctrl['n_nonclk_queries'].sum() / browser_grouped_ctrl['n_queries'].sum())\n",
    "    print(\"Rate of non-clicks for experiment for: \", browser, browser_grouped_exp['n_nonclk_queries'].sum() / browser_grouped_exp['n_queries'].sum())\n",
    "    print()"
   ]
  }
 ],
 "metadata": {
  "kernelspec": {
   "display_name": "Python 3",
   "language": "python",
   "name": "python3"
  },
  "language_info": {
   "codemirror_mode": {
    "name": "ipython",
    "version": 3
   },
   "file_extension": ".py",
   "mimetype": "text/x-python",
   "name": "python",
   "nbconvert_exporter": "python",
   "pygments_lexer": "ipython3",
   "version": "3.6.4"
  }
 },
 "nbformat": 4,
 "nbformat_minor": 2
}
